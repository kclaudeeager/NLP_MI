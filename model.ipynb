{
 "cells": [
  {
   "cell_type": "code",
   "execution_count": 28,
   "metadata": {},
   "outputs": [],
   "source": [
    "# import important modules\n",
    "import pandas as pd\n",
    "import numpy as np\n",
    "import matplotlib.pyplot as plt\n",
    "from sklearn.feature_extraction.text import CountVectorizer, TfidfVectorizer\n",
    "from nltk.tokenize import RegexpTokenizer, TweetTokenizer\n",
    "from sklearn.naive_bayes import MultinomialNB\n",
    "from sklearn import metrics, svm\n",
    "from sklearn.model_selection import train_test_split\n",
    "from sklearn.metrics import classification_report\n",
    "import warnings\n",
    "warnings.filterwarnings('ignore')\n",
    "import numpy as np\n",
    "import joblib\n",
    "import pickle\n",
    "import warnings\n",
    "warnings.filterwarnings(\"ignore\")\n",
    "# seeding\n",
    "np.random.seed(123)\n",
    "# load data\n",
    "\n",
    "# importing random forest classifier from assemble module\n",
    "from sklearn.ensemble import RandomForestClassifier\n",
    "from sklearn.metrics import classification_report\n"
   ]
  },
  {
   "cell_type": "code",
   "execution_count": 2,
   "metadata": {},
   "outputs": [
    {
     "data": {
      "text/plain": [
       "clean_text    False\n",
       "category      False\n",
       "dtype: bool"
      ]
     },
     "execution_count": 2,
     "metadata": {},
     "output_type": "execute_result"
    }
   ],
   "source": [
    "# warnings.filterwarnings(\"ignore\")\n",
    "# # seeding\n",
    "# np.random.seed(123)\n",
    "data = pd.read_csv('data/Twitter_Data.csv')\n",
    "categories = [-1, 0, 1]\n",
    "# data.head()\n",
    "# len(data)\n",
    "data.isnull().any().any()\n",
    "data.isnull().any()\n",
    "data = data.dropna(subset=['clean_text','category'])\n",
    "# data['clean_text','category'].isnull().sum()\n",
    "# data.isnull().any().any()\n",
    "# data.isnull().any()\n",
    "data.isnull().any()"
   ]
  },
  {
   "cell_type": "code",
   "execution_count": 3,
   "metadata": {},
   "outputs": [
    {
     "data": {
      "image/png": "[encoded data removed]",
      "text/plain": [
       "<Figure size 432x288 with 1 Axes>"
      ]
     },
     "metadata": {
      "needs_background": "light"
     },
     "output_type": "display_data"
    },
    {
     "data": {
      "text/html": [
       "<div>\n",
       "<style scoped>\n",
       "    .dataframe tbody tr th:only-of-type {\n",
       "        vertical-align: middle;\n",
       "    }\n",
       "\n",
       "    .dataframe tbody tr th {\n",
       "        vertical-align: top;\n",
       "    }\n",
       "\n",
       "    .dataframe thead th {\n",
       "        text-align: right;\n",
       "    }\n",
       "</style>\n",
       "<table border=\"1\" class=\"dataframe\">\n",
       "  <thead>\n",
       "    <tr style=\"text-align: right;\">\n",
       "      <th></th>\n",
       "      <th>clean_text</th>\n",
       "    </tr>\n",
       "    <tr>\n",
       "      <th>category</th>\n",
       "      <th></th>\n",
       "    </tr>\n",
       "  </thead>\n",
       "  <tbody>\n",
       "    <tr>\n",
       "      <th>-1.0</th>\n",
       "      <td>35509</td>\n",
       "    </tr>\n",
       "    <tr>\n",
       "      <th>0.0</th>\n",
       "      <td>55211</td>\n",
       "    </tr>\n",
       "    <tr>\n",
       "      <th>1.0</th>\n",
       "      <td>72249</td>\n",
       "    </tr>\n",
       "  </tbody>\n",
       "</table>\n",
       "</div>"
      ],
      "text/plain": [
       "          clean_text\n",
       "category            \n",
       "-1.0           35509\n",
       " 0.0           55211\n",
       " 1.0           72249"
      ]
     },
     "execution_count": 3,
     "metadata": {},
     "output_type": "execute_result"
    }
   ],
   "source": [
    "def visualize():\n",
    "    category_count = data.groupby('category').count()\n",
    "    plt.bar(category_count.index.values, category_count[\"clean_text\"])\n",
    "    plt.xticks(rotation='vertical')\n",
    "    plt.xlabel('Sentiment Categories')\n",
    "    plt.ylabel('Number of Texts')\n",
    "    plt.show()\n",
    "    return category_count\n",
    "visualize()"
   ]
  },
  {
   "cell_type": "code",
   "execution_count": 56,
   "metadata": {},
   "outputs": [],
   "source": [
    "def feature_gen_with_TFIDF():\n",
    "    token = TweetTokenizer()\n",
    "    tf = TfidfVectorizer(tokenizer=token.tokenize,stop_words=\"english\",\n",
    "                            min_df = 5,\n",
    "                             max_df = 0.8,\n",
    "                             sublinear_tf = True,\n",
    "                             use_idf = True)\n",
    "    text_tf = tf.fit_transform(data['clean_text'])\n",
    "    # pickling the vectorizer\n",
    "    pickle.dump(tf, open('vectorizers/vectorizer_with_TFIDF.sav', 'wb'))\n",
    "    print(\"text_tf saved\")\n",
    "#     x = data['clean_text']\n",
    "# y = data.category.values\n",
    "# x_train, x_valid, y_train, y_valid = train_test_split(x,y,test_size=0.15,random_state=42,shuffle=True,stratify=y)\n",
    "    #  x_train, x_test, y_train, y_test\n",
    "#     train_test_split(x,y,test_size=0.15,random_state=42,shuffle=True,stratify)\n",
    "    return train_test_split(text_tf, data['category'], test_size=0.3, random_state=1212)\n",
    "\n",
    "def feature_gen_with_CV():\n",
    "    token = TweetTokenizer()\n",
    "    cv = CountVectorizer(lowercase=True, stop_words=\"english\",\n",
    "                         ngram_range=(1, 1), tokenizer=token.tokenize)\n",
    "    text_counts = cv.fit_transform(data['clean_text'])\n",
    "     # pickling the vectorizer\n",
    "    pickle.dump(cv, open('vectorizers/vectorizer_with_CV.sav', 'wb'))\n",
    "    print(\"text_counts saved\")\n",
    "    return train_test_split(text_counts, data['category'], test_size=0.3, random_state=1212)\n",
    "\n",
    "def calculate_accuracy(x_train, x_test, y_train, y_test, model=None, model_filename = None):\n",
    "#     x_train= x_train.reshape(-1, 1)\n",
    "#     x_test = x_test.reshape(-1, 1)\n",
    "    clf = MultinomialNB().fit(x_train, y_train)\n",
    "    print(\"x_test\", type(x_test))\n",
    "    if model == \"SVM\":\n",
    "        clf = svm.SVC(kernel='linear',probability=True).fit(x_train, y_train)\n",
    "    if model==\"RF\":\n",
    "        \n",
    "        clf=RandomForestClassifier(n_estimators = 100).fit(x_train, y_train)\n",
    "        \n",
    "   \n",
    "    predicted = clf.predict(x_test)\n",
    "    print('predicted: ',predicted)\n",
    "    accuracy_score = metrics.accuracy_score(y_test, predicted)\n",
    "    #report = classification_report(data['category'], predicted, output_dict=True)\n",
    "    print(\"accuracy_score: \",accuracy_score)\n",
    "    model_filename=\"models/\"+model_filename+'.pkl'\n",
    "    if not model_filename : model_filename = \"model_trained\"\n",
    "    # joblib.dump(clf,\"/content/drive/MyDrive/Colab Notebooks/Sentiment Analysis/trained_models/\"+ model_filename+'.pkl')\n",
    "    \n",
    "    # file_name = \"/content/drive/MyDrive/Colab Notebooks/Sentiment Analysis /trained_models/\" + model_filename +'.pkl'\n",
    "    with open(model_filename, 'wb') as handle:\n",
    "        joblib.dump(clf, handle, protocol=pickle.HIGHEST_PROTOCOL,compress=9) \n",
    "\n",
    "    return accuracy_score, predicted\n",
    "def train_model(model=None, model_filename = None):\n",
    "    token = TweetTokenizer()\n",
    "    cv = CountVectorizer(lowercase=True, stop_words=\"english\",\n",
    "                         ngram_range=(1, 1), tokenizer=token.tokenize)\n",
    "    x = data['clean_text']\n",
    "    y = data['category']\n",
    "\n",
    "    clf = MultinomialNB().fit(x_train, y_train)\n",
    "    print(\"x_test\", type(x_test))\n",
    "    if model == \"SVM\":\n",
    "        clf = svm.SVC(kernel='linear').fit(x_train, y_train)\n",
    "    if model==\"RF\":\n",
    "        clf=RandomForestClassifier(n_estimators = 100).fit(x_train, y_train)\n",
    "    print(\"words to predict: \",x_test)\n",
    "    print('Word type: ',x_test)\n",
    "    predicted = clf.predict(x_test)\n",
    "    accuracy_score = metrics.accuracy_score(y_test, predicted)\n",
    "\n",
    "    if not model_filename : model_filename = \"model_trained\"\n",
    "    # joblib.dump(clf,\"/content/drive/MyDrive/Colab Notebooks/Sentiment Analysis/trained_models/\"+ model_filename+'.pkl')\n",
    "    \n",
    "    # file_name = \"/content/drive/MyDrive/Colab Notebooks/Sentiment Analysis /trained_models/\" + model_filename +'.pkl'\n",
    "    # with open(file_name, 'wb') as handle:\n",
    "    #     pickle.dump(clf, handle, protocol=pickle.HIGHEST_PROTOCOL) \n",
    "    # f = open(file_name,'wb')\n",
    "    # pickle.dump(clf,f)\n",
    "    # f.close()\n",
    "\n",
    "    return accuracy_score, predicted"
   ]
  },
  {
   "cell_type": "code",
   "execution_count": 49,
   "metadata": {},
   "outputs": [
    {
     "name": "stdout",
     "output_type": "stream",
     "text": [
      "text_counts saved\n"
     ]
    }
   ],
   "source": [
    "# with  CV\n",
    "x_train, x_test, y_train, y_test = feature_gen_with_CV()"
   ]
  },
  {
   "cell_type": "code",
   "execution_count": 55,
   "metadata": {},
   "outputs": [
    {
     "name": "stdout",
     "output_type": "stream",
     "text": [
      "text_tf saved\n"
     ]
    }
   ],
   "source": [
    "# with  TF_IDF\n",
    "xtrain, xtest, ytrain, ytest = feature_gen_with_TFIDF()\n",
    "# print(\"xtrain: \",xtrain)\n",
    "# print(\"xtest: \",xtest)\n",
    "# print(\"ytrain: \",ytrain)\n",
    "# print(\"ytest: \",ytest)"
   ]
  },
  {
   "cell_type": "code",
   "execution_count": 54,
   "metadata": {
    "scrolled": true
   },
   "outputs": [
    {
     "name": "stdout",
     "output_type": "stream",
     "text": [
      "x_test <class 'scipy.sparse.csr.csr_matrix'>\n",
      "predicted:  [1. 1. 1. ... 1. 1. 1.]\n",
      "accuracy_score:  0.6965085598576425\n"
     ]
    }
   ],
   "source": [
    "CV_NB = calculate_accuracy(x_train, x_test, y_train, y_test,model_filename = \"CV_MNB_model\")"
   ]
  },
  {
   "cell_type": "code",
   "execution_count": 57,
   "metadata": {},
   "outputs": [
    {
     "name": "stdout",
     "output_type": "stream",
     "text": [
      "x_test <class 'scipy.sparse.csr.csr_matrix'>\n",
      "predicted:  [ 1.  1.  0. ... -1.  1.  1.]\n",
      "accuracy_score:  0.8647808390092246\n"
     ]
    }
   ],
   "source": [
    "CV_SVM = calculate_accuracy(x_train, x_test, y_train, y_test, model = \"SVM\",model_filename = \"CV_SVM_model\")\n"
   ]
  },
  {
   "cell_type": "code",
   "execution_count": 8,
   "metadata": {},
   "outputs": [
    {
     "name": "stdout",
     "output_type": "stream",
     "text": [
      "x_test <class 'scipy.sparse.csr.csr_matrix'>\n",
      "predicted:  [1. 1. 1. ... 1. 1. 1.]\n",
      "accuracy_score:  0.5674050438731055\n",
      "[1. 1. 1. ... 1. 1. 1.]\n"
     ]
    }
   ],
   "source": [
    "TF_NB = calculate_accuracy(xtrain, xtest, ytrain, ytest,model_filename = \"TF_MNB_model\")\n",
    "print(TF_NB[1])"
   ]
  },
  {
   "cell_type": "code",
   "execution_count": null,
   "metadata": {},
   "outputs": [
    {
     "name": "stdout",
     "output_type": "stream",
     "text": [
      "x_test <class 'scipy.sparse.csr.csr_matrix'>\n"
     ]
    }
   ],
   "source": [
    "TF_SVM = calculate_accuracy(xtrain, xtest, ytrain, ytest, model = \"SVM\",model_filename = \"TF_MNB_model\")\n",
    "print(TF_SVM[1])"
   ]
  },
  {
   "cell_type": "code",
   "execution_count": 17,
   "metadata": {},
   "outputs": [
    {
     "name": "stdout",
     "output_type": "stream",
     "text": [
      "x_test <class 'scipy.sparse.csr.csr_matrix'>\n",
      "predicted:  [ 1.  1.  0. ... -1.  1.  1.]\n",
      "accuracy_score:  0.8202532163383854\n",
      "[ 1.  1.  0. ... -1.  1.  1.]\n"
     ]
    }
   ],
   "source": [
    "TF_RF=calculate_accuracy(xtrain, xtest, ytrain, ytest, model = \"RF\",model_filename = \"TF_RF_model1\")\n",
    "print(TF_RF[1])"
   ]
  },
  {
   "cell_type": "code",
   "execution_count": 12,
   "metadata": {},
   "outputs": [
    {
     "name": "stdout",
     "output_type": "stream",
     "text": [
      "[1. 1. 1. ... 1. 1. 1.] [1. 1. 1. ... 1. 1. 1.]\n"
     ]
    }
   ],
   "source": [
    "print(CV_NB[1],TF_NB[1])"
   ]
  },
  {
   "cell_type": "code",
   "execution_count": 21,
   "metadata": {},
   "outputs": [
    {
     "name": "stdout",
     "output_type": "stream",
     "text": [
      "0.868135239614653\n",
      "[ 1.  1.  0. ... -1.  1.  1.]\n"
     ]
    }
   ],
   "source": [
    "\n",
    "accuracy_score, predicted=TF_SVM\n",
    "print(accuracy_score)\n",
    "print(predicted)"
   ]
  },
  {
   "cell_type": "code",
   "execution_count": null,
   "metadata": {},
   "outputs": [],
   "source": [
    "from sklearn.pipeline import Pipeline\n",
    "x = data['clean_text']\n",
    "y = data.category.values\n",
    "x_train, x_valid, y_train, y_valid = train_test_split(x,y,test_size=0.15,random_state=42,shuffle=True,stratify=y)\n",
    "sent_clf = Pipeline(steps=[('pre_processing', CountVectorizer(lowercase=False, stop_words='english')), ('naive_bayes', MultinomialNB())])\n",
    "sent_clf.fit(x_train, y_train)"
   ]
  },
  {
   "cell_type": "code",
   "execution_count": null,
   "metadata": {},
   "outputs": [],
   "source": [
    "y_predictions = sent_clf.predict(x_valid)\n",
    "print(y_predictions)"
   ]
  },
  {
   "cell_type": "code",
   "execution_count": null,
   "metadata": {},
   "outputs": [],
   "source": [
    "accuracy=metrics.accuracy_score(y_valid,y_predictions)\n",
    "print(\"Accuracy is \"+str(accuracy))"
   ]
  },
  {
   "cell_type": "code",
   "execution_count": null,
   "metadata": {},
   "outputs": [],
   "source": [
    "model_filename = \"trained_model1\"\n",
    "file_name = \"models/\" + model_filename +'.pkl'\n",
    "f = open(file_name,'wb')\n",
    "pickle.dump(sent_clf,f)\n",
    "f.close()"
   ]
  },
  {
   "cell_type": "code",
   "execution_count": null,
   "metadata": {},
   "outputs": [],
   "source": [
    "print(\"Hello\")"
   ]
  },
  {
   "cell_type": "code",
   "execution_count": null,
   "metadata": {},
   "outputs": [],
   "source": []
  },
  {
   "cell_type": "code",
   "execution_count": null,
   "metadata": {},
   "outputs": [],
   "source": []
  },
  {
   "cell_type": "code",
   "execution_count": null,
   "metadata": {},
   "outputs": [],
   "source": []
  },
  {
   "cell_type": "code",
   "execution_count": null,
   "metadata": {},
   "outputs": [],
   "source": []
  },
  {
   "cell_type": "code",
   "execution_count": null,
   "metadata": {},
   "outputs": [],
   "source": []
  },
  {
   "cell_type": "code",
   "execution_count": null,
   "metadata": {},
   "outputs": [],
   "source": []
  }
 ],
 "metadata": {
  "interpreter": {
   "hash": "afb734500600fd355917ca529030176ea0ca205570884b88f2f6f7d791fd3fbe"
  },
  "kernelspec": {
   "display_name": "Python 3 (ipykernel)",
   "language": "python",
   "name": "python3"
  },
  "language_info": {
   "codemirror_mode": {
    "name": "ipython",
    "version": 3
   },
   "file_extension": ".py",
   "mimetype": "text/x-python",
   "name": "python",
   "nbconvert_exporter": "python",
   "pygments_lexer": "ipython3",
   "version": "3.9.12"
  }
 },
 "nbformat": 4,
 "nbformat_minor": 2
}
